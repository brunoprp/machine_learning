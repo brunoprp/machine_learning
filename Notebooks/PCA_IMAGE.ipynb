{
 "cells": [
  {
   "cell_type": "markdown",
   "id": "e924994d",
   "metadata": {},
   "source": [
    "# Aprendizado de Máquina - 2021.2\n",
    "  * Prof. Ana Luiza Bessa de Paula Barros\n",
    "  * Programa de Pós-graduação em Ciência da Computacão - PPGCC/UECE\n",
    "## Atividade 2  PCA (Principal Component Analysis)\n",
    "  * Domingos Bruno Sousa Santos"
   ]
  },
  {
   "cell_type": "markdown",
   "id": "267d3c74",
   "metadata": {},
   "source": [
    "## Roteiro\n",
    " * 1) PCA com sklearn\n",
    " * 2) PCA com Numpy e decomposição espectral da matriz de covariância\n",
    " * 3) PCA com Numpy e SVD"
   ]
  },
  {
   "cell_type": "code",
   "execution_count": 1,
   "id": "1f61089d",
   "metadata": {},
   "outputs": [],
   "source": [
    "import pandas as pd\n",
    "import numpy as np\n",
    "import matplotlib.pyplot as plt\n",
    "from sklearn.decomposition import PCA\n",
    "import os\n",
    "import cv2\n",
    "from sklearn.datasets import load_digits\n",
    "plt.style.use('seaborn')"
   ]
  },
  {
   "cell_type": "markdown",
   "id": "c17062e9",
   "metadata": {},
   "source": [
    "### Leituda as imagens"
   ]
  },
  {
   "cell_type": "code",
   "execution_count": 2,
   "id": "51cead62",
   "metadata": {},
   "outputs": [
    {
     "data": {
      "text/html": [
       "<div>\n",
       "<style scoped>\n",
       "    .dataframe tbody tr th:only-of-type {\n",
       "        vertical-align: middle;\n",
       "    }\n",
       "\n",
       "    .dataframe tbody tr th {\n",
       "        vertical-align: top;\n",
       "    }\n",
       "\n",
       "    .dataframe thead th {\n",
       "        text-align: right;\n",
       "    }\n",
       "</style>\n",
       "<table border=\"1\" class=\"dataframe\">\n",
       "  <thead>\n",
       "    <tr style=\"text-align: right;\">\n",
       "      <th></th>\n",
       "      <th>label</th>\n",
       "      <th>pixel1</th>\n",
       "      <th>pixel2</th>\n",
       "      <th>pixel3</th>\n",
       "      <th>pixel4</th>\n",
       "      <th>pixel5</th>\n",
       "      <th>pixel6</th>\n",
       "      <th>pixel7</th>\n",
       "      <th>pixel8</th>\n",
       "      <th>pixel9</th>\n",
       "      <th>...</th>\n",
       "      <th>pixel775</th>\n",
       "      <th>pixel776</th>\n",
       "      <th>pixel777</th>\n",
       "      <th>pixel778</th>\n",
       "      <th>pixel779</th>\n",
       "      <th>pixel780</th>\n",
       "      <th>pixel781</th>\n",
       "      <th>pixel782</th>\n",
       "      <th>pixel783</th>\n",
       "      <th>pixel784</th>\n",
       "    </tr>\n",
       "  </thead>\n",
       "  <tbody>\n",
       "    <tr>\n",
       "      <th>0</th>\n",
       "      <td>3</td>\n",
       "      <td>107</td>\n",
       "      <td>118</td>\n",
       "      <td>127</td>\n",
       "      <td>134</td>\n",
       "      <td>139</td>\n",
       "      <td>143</td>\n",
       "      <td>146</td>\n",
       "      <td>150</td>\n",
       "      <td>153</td>\n",
       "      <td>...</td>\n",
       "      <td>207</td>\n",
       "      <td>207</td>\n",
       "      <td>207</td>\n",
       "      <td>207</td>\n",
       "      <td>206</td>\n",
       "      <td>206</td>\n",
       "      <td>206</td>\n",
       "      <td>204</td>\n",
       "      <td>203</td>\n",
       "      <td>202</td>\n",
       "    </tr>\n",
       "    <tr>\n",
       "      <th>1</th>\n",
       "      <td>6</td>\n",
       "      <td>155</td>\n",
       "      <td>157</td>\n",
       "      <td>156</td>\n",
       "      <td>156</td>\n",
       "      <td>156</td>\n",
       "      <td>157</td>\n",
       "      <td>156</td>\n",
       "      <td>158</td>\n",
       "      <td>158</td>\n",
       "      <td>...</td>\n",
       "      <td>69</td>\n",
       "      <td>149</td>\n",
       "      <td>128</td>\n",
       "      <td>87</td>\n",
       "      <td>94</td>\n",
       "      <td>163</td>\n",
       "      <td>175</td>\n",
       "      <td>103</td>\n",
       "      <td>135</td>\n",
       "      <td>149</td>\n",
       "    </tr>\n",
       "    <tr>\n",
       "      <th>2</th>\n",
       "      <td>2</td>\n",
       "      <td>187</td>\n",
       "      <td>188</td>\n",
       "      <td>188</td>\n",
       "      <td>187</td>\n",
       "      <td>187</td>\n",
       "      <td>186</td>\n",
       "      <td>187</td>\n",
       "      <td>188</td>\n",
       "      <td>187</td>\n",
       "      <td>...</td>\n",
       "      <td>202</td>\n",
       "      <td>201</td>\n",
       "      <td>200</td>\n",
       "      <td>199</td>\n",
       "      <td>198</td>\n",
       "      <td>199</td>\n",
       "      <td>198</td>\n",
       "      <td>195</td>\n",
       "      <td>194</td>\n",
       "      <td>195</td>\n",
       "    </tr>\n",
       "    <tr>\n",
       "      <th>3</th>\n",
       "      <td>2</td>\n",
       "      <td>211</td>\n",
       "      <td>211</td>\n",
       "      <td>212</td>\n",
       "      <td>212</td>\n",
       "      <td>211</td>\n",
       "      <td>210</td>\n",
       "      <td>211</td>\n",
       "      <td>210</td>\n",
       "      <td>210</td>\n",
       "      <td>...</td>\n",
       "      <td>235</td>\n",
       "      <td>234</td>\n",
       "      <td>233</td>\n",
       "      <td>231</td>\n",
       "      <td>230</td>\n",
       "      <td>226</td>\n",
       "      <td>225</td>\n",
       "      <td>222</td>\n",
       "      <td>229</td>\n",
       "      <td>163</td>\n",
       "    </tr>\n",
       "    <tr>\n",
       "      <th>4</th>\n",
       "      <td>13</td>\n",
       "      <td>164</td>\n",
       "      <td>167</td>\n",
       "      <td>170</td>\n",
       "      <td>172</td>\n",
       "      <td>176</td>\n",
       "      <td>179</td>\n",
       "      <td>180</td>\n",
       "      <td>184</td>\n",
       "      <td>185</td>\n",
       "      <td>...</td>\n",
       "      <td>92</td>\n",
       "      <td>105</td>\n",
       "      <td>105</td>\n",
       "      <td>108</td>\n",
       "      <td>133</td>\n",
       "      <td>163</td>\n",
       "      <td>157</td>\n",
       "      <td>163</td>\n",
       "      <td>164</td>\n",
       "      <td>179</td>\n",
       "    </tr>\n",
       "    <tr>\n",
       "      <th>...</th>\n",
       "      <td>...</td>\n",
       "      <td>...</td>\n",
       "      <td>...</td>\n",
       "      <td>...</td>\n",
       "      <td>...</td>\n",
       "      <td>...</td>\n",
       "      <td>...</td>\n",
       "      <td>...</td>\n",
       "      <td>...</td>\n",
       "      <td>...</td>\n",
       "      <td>...</td>\n",
       "      <td>...</td>\n",
       "      <td>...</td>\n",
       "      <td>...</td>\n",
       "      <td>...</td>\n",
       "      <td>...</td>\n",
       "      <td>...</td>\n",
       "      <td>...</td>\n",
       "      <td>...</td>\n",
       "      <td>...</td>\n",
       "      <td>...</td>\n",
       "    </tr>\n",
       "    <tr>\n",
       "      <th>27450</th>\n",
       "      <td>13</td>\n",
       "      <td>189</td>\n",
       "      <td>189</td>\n",
       "      <td>190</td>\n",
       "      <td>190</td>\n",
       "      <td>192</td>\n",
       "      <td>193</td>\n",
       "      <td>193</td>\n",
       "      <td>193</td>\n",
       "      <td>193</td>\n",
       "      <td>...</td>\n",
       "      <td>132</td>\n",
       "      <td>165</td>\n",
       "      <td>99</td>\n",
       "      <td>77</td>\n",
       "      <td>52</td>\n",
       "      <td>200</td>\n",
       "      <td>234</td>\n",
       "      <td>200</td>\n",
       "      <td>222</td>\n",
       "      <td>225</td>\n",
       "    </tr>\n",
       "    <tr>\n",
       "      <th>27451</th>\n",
       "      <td>23</td>\n",
       "      <td>151</td>\n",
       "      <td>154</td>\n",
       "      <td>157</td>\n",
       "      <td>158</td>\n",
       "      <td>160</td>\n",
       "      <td>161</td>\n",
       "      <td>163</td>\n",
       "      <td>164</td>\n",
       "      <td>166</td>\n",
       "      <td>...</td>\n",
       "      <td>198</td>\n",
       "      <td>198</td>\n",
       "      <td>198</td>\n",
       "      <td>198</td>\n",
       "      <td>198</td>\n",
       "      <td>196</td>\n",
       "      <td>195</td>\n",
       "      <td>195</td>\n",
       "      <td>195</td>\n",
       "      <td>194</td>\n",
       "    </tr>\n",
       "    <tr>\n",
       "      <th>27452</th>\n",
       "      <td>18</td>\n",
       "      <td>174</td>\n",
       "      <td>174</td>\n",
       "      <td>174</td>\n",
       "      <td>174</td>\n",
       "      <td>174</td>\n",
       "      <td>175</td>\n",
       "      <td>175</td>\n",
       "      <td>174</td>\n",
       "      <td>173</td>\n",
       "      <td>...</td>\n",
       "      <td>121</td>\n",
       "      <td>196</td>\n",
       "      <td>209</td>\n",
       "      <td>208</td>\n",
       "      <td>206</td>\n",
       "      <td>204</td>\n",
       "      <td>203</td>\n",
       "      <td>202</td>\n",
       "      <td>200</td>\n",
       "      <td>200</td>\n",
       "    </tr>\n",
       "    <tr>\n",
       "      <th>27453</th>\n",
       "      <td>17</td>\n",
       "      <td>177</td>\n",
       "      <td>181</td>\n",
       "      <td>184</td>\n",
       "      <td>185</td>\n",
       "      <td>187</td>\n",
       "      <td>189</td>\n",
       "      <td>190</td>\n",
       "      <td>191</td>\n",
       "      <td>191</td>\n",
       "      <td>...</td>\n",
       "      <td>119</td>\n",
       "      <td>56</td>\n",
       "      <td>27</td>\n",
       "      <td>58</td>\n",
       "      <td>102</td>\n",
       "      <td>79</td>\n",
       "      <td>47</td>\n",
       "      <td>64</td>\n",
       "      <td>87</td>\n",
       "      <td>93</td>\n",
       "    </tr>\n",
       "    <tr>\n",
       "      <th>27454</th>\n",
       "      <td>23</td>\n",
       "      <td>179</td>\n",
       "      <td>180</td>\n",
       "      <td>180</td>\n",
       "      <td>180</td>\n",
       "      <td>182</td>\n",
       "      <td>181</td>\n",
       "      <td>182</td>\n",
       "      <td>183</td>\n",
       "      <td>182</td>\n",
       "      <td>...</td>\n",
       "      <td>108</td>\n",
       "      <td>132</td>\n",
       "      <td>170</td>\n",
       "      <td>194</td>\n",
       "      <td>214</td>\n",
       "      <td>203</td>\n",
       "      <td>197</td>\n",
       "      <td>205</td>\n",
       "      <td>209</td>\n",
       "      <td>215</td>\n",
       "    </tr>\n",
       "  </tbody>\n",
       "</table>\n",
       "<p>27455 rows × 785 columns</p>\n",
       "</div>"
      ],
      "text/plain": [
       "       label  pixel1  pixel2  pixel3  pixel4  pixel5  pixel6  pixel7  pixel8  \\\n",
       "0          3     107     118     127     134     139     143     146     150   \n",
       "1          6     155     157     156     156     156     157     156     158   \n",
       "2          2     187     188     188     187     187     186     187     188   \n",
       "3          2     211     211     212     212     211     210     211     210   \n",
       "4         13     164     167     170     172     176     179     180     184   \n",
       "...      ...     ...     ...     ...     ...     ...     ...     ...     ...   \n",
       "27450     13     189     189     190     190     192     193     193     193   \n",
       "27451     23     151     154     157     158     160     161     163     164   \n",
       "27452     18     174     174     174     174     174     175     175     174   \n",
       "27453     17     177     181     184     185     187     189     190     191   \n",
       "27454     23     179     180     180     180     182     181     182     183   \n",
       "\n",
       "       pixel9  ...  pixel775  pixel776  pixel777  pixel778  pixel779  \\\n",
       "0         153  ...       207       207       207       207       206   \n",
       "1         158  ...        69       149       128        87        94   \n",
       "2         187  ...       202       201       200       199       198   \n",
       "3         210  ...       235       234       233       231       230   \n",
       "4         185  ...        92       105       105       108       133   \n",
       "...       ...  ...       ...       ...       ...       ...       ...   \n",
       "27450     193  ...       132       165        99        77        52   \n",
       "27451     166  ...       198       198       198       198       198   \n",
       "27452     173  ...       121       196       209       208       206   \n",
       "27453     191  ...       119        56        27        58       102   \n",
       "27454     182  ...       108       132       170       194       214   \n",
       "\n",
       "       pixel780  pixel781  pixel782  pixel783  pixel784  \n",
       "0           206       206       204       203       202  \n",
       "1           163       175       103       135       149  \n",
       "2           199       198       195       194       195  \n",
       "3           226       225       222       229       163  \n",
       "4           163       157       163       164       179  \n",
       "...         ...       ...       ...       ...       ...  \n",
       "27450       200       234       200       222       225  \n",
       "27451       196       195       195       195       194  \n",
       "27452       204       203       202       200       200  \n",
       "27453        79        47        64        87        93  \n",
       "27454       203       197       205       209       215  \n",
       "\n",
       "[27455 rows x 785 columns]"
      ]
     },
     "execution_count": 2,
     "metadata": {},
     "output_type": "execute_result"
    }
   ],
   "source": [
    "# Leitura dos dados .CSV\n",
    "df_data = pd.read_csv(\"sign_mnist_train.csv\")\n",
    "df_data"
   ]
  },
  {
   "cell_type": "code",
   "execution_count": 3,
   "id": "d17382cc",
   "metadata": {},
   "outputs": [],
   "source": [
    "# Removendo a coluna das classes do data frame\n",
    "del df_data['label']\n",
    "\n",
    "# Juntando os dados de teste de treinamneto\n",
    "# Normalizado os valores de pixels para ficar em uma escla entre 0 e 1\n",
    "X_data = df_data.values/255\n",
    "X_data = X_data[:100]\n",
    "    "
   ]
  },
  {
   "cell_type": "code",
   "execution_count": 4,
   "id": "2e691b18",
   "metadata": {},
   "outputs": [
    {
     "data": {
      "image/png": "[encoded data removed]",
      "text/plain": [
       "<Figure size 2016x2016 with 15 Axes>"
      ]
     },
     "metadata": {},
     "output_type": "display_data"
    }
   ],
   "source": [
    "plt.figure(figsize=(28,28))\n",
    "for i in range(15):\n",
    "    plt.subplot(5,5,i+1)\n",
    "    plt.xticks([])\n",
    "    plt.yticks([])\n",
    "    plt.grid(True)\n",
    "    img = X_data[i].reshape(28, 28)\n",
    "    plt.imshow(img, cmap=plt.cm.binary)\n",
    "    \n",
    "plt.show()"
   ]
  },
  {
   "cell_type": "markdown",
   "id": "7c02faab",
   "metadata": {},
   "source": [
    "## 1) PCA com sklearn"
   ]
  },
  {
   "cell_type": "code",
   "execution_count": 5,
   "id": "3a2ee495",
   "metadata": {},
   "outputs": [
    {
     "data": {
      "image/png": "[encoded data removed]",
      "text/plain": [
       "<Figure size 576x396 with 1 Axes>"
      ]
     },
     "metadata": {},
     "output_type": "display_data"
    }
   ],
   "source": [
    "# Variância explicada de acordo com a quantidade de autovetores\n",
    "pca = PCA().fit(X_data)\n",
    "plt.plot(np.cumsum(pca.explained_variance_ratio_))\n",
    "plt.xlabel('number of components')\n",
    "plt.ylabel('cumulative explained variance');"
   ]
  },
  {
   "cell_type": "code",
   "execution_count": 6,
   "id": "07c74d75",
   "metadata": {},
   "outputs": [
    {
     "data": {
      "text/plain": [
       "array([0.25590146, 0.3764171 , 0.46968833, 0.52985602, 0.57767286,\n",
       "       0.61730569, 0.64857443, 0.67802495, 0.70189852, 0.72320186,\n",
       "       0.74163733, 0.75897964, 0.77429638, 0.78721974, 0.79873349,\n",
       "       0.80921212, 0.81933975, 0.82837527, 0.83700452, 0.84445654,\n",
       "       0.85134185, 0.85813171, 0.86441441, 0.87058488, 0.87627782,\n",
       "       0.8819564 , 0.88710442, 0.89198246, 0.89673836, 0.90143958,\n",
       "       0.90575437, 0.90990844, 0.91382013, 0.91750344, 0.92093762,\n",
       "       0.92418151, 0.92735512, 0.93040945, 0.93325753, 0.93603385,\n",
       "       0.9386623 , 0.94124015, 0.94373495, 0.94616214, 0.94857093,\n",
       "       0.95091348, 0.9530668 , 0.95510038, 0.95706114, 0.9589739 ,\n",
       "       0.96082571, 0.96260545, 0.96435063, 0.96605088, 0.96761758,\n",
       "       0.96918068, 0.97065942, 0.97208067, 0.9734728 , 0.97484966,\n",
       "       0.976186  , 0.97741246, 0.97857142, 0.97969397, 0.98075635,\n",
       "       0.98179965, 0.98275775, 0.98370917, 0.98463906, 0.9855452 ,\n",
       "       0.98641968, 0.98727799, 0.98808497, 0.98888188, 0.98963766,\n",
       "       0.99038772, 0.99109695, 0.99176991, 0.99242084, 0.99303908,\n",
       "       0.99364147, 0.99422362, 0.99478667, 0.99531993, 0.9958406 ,\n",
       "       0.99633702, 0.99679773, 0.99725286, 0.99767921, 0.99808883,\n",
       "       0.9984599 , 0.99881573, 0.99914319, 0.9994648 , 0.99974758,\n",
       "       0.99995965, 0.99998743, 0.99999933, 1.        , 1.        ])"
      ]
     },
     "execution_count": 6,
     "metadata": {},
     "output_type": "execute_result"
    }
   ],
   "source": [
    "#  94.65% da variância nos dados é explicada pelo primeiro componente principal\n",
    "np.cumsum(pca.explained_variance_ratio_)"
   ]
  },
  {
   "cell_type": "code",
   "execution_count": 7,
   "id": "fa898081",
   "metadata": {},
   "outputs": [
    {
     "name": "stdout",
     "output_type": "stream",
     "text": [
      "(100, 56)\n",
      "\n",
      "[[-3.82047736e-01 -1.27573270e+00 -1.28333889e+00 ... -3.02251484e-02\n",
      "   1.01596274e-01 -2.13495169e-01]\n",
      " [-1.10245926e+00 -8.98956824e-02  7.87197941e-01 ...  2.37206100e-01\n",
      "  -3.88292973e-02 -5.52871089e-03]\n",
      " [ 8.39336694e-01 -3.41064603e+00  1.83797463e+00 ... -1.23041759e-02\n",
      "   3.15850004e-01 -1.15884818e-01]\n",
      " ...\n",
      " [ 3.41223602e+00  2.08333353e+00  2.51794125e-01 ... -6.49737265e-02\n",
      "  -8.48364157e-02 -2.56776144e-03]\n",
      " [ 4.31749909e+00  9.97636339e-01  1.00874721e-02 ... -3.68155592e-02\n",
      "  -8.73868135e-02 -1.42326056e-02]\n",
      " [ 2.42203699e+00 -2.26862202e-01 -3.99377856e-01 ... -1.56454113e-01\n",
      "   5.09530975e-03 -2.63536142e-01]]\n"
     ]
    }
   ],
   "source": [
    "# Fazendo a redução da dimensionalidade\n",
    "k = 56 # \n",
    "pca = PCA(n_components=k)\n",
    "pca_1 = pca.fit_transform(X_data)\n",
    "print(pca_1.shape)\n",
    "print(\"\")\n",
    "print(pca_1[:20])"
   ]
  },
  {
   "cell_type": "markdown",
   "id": "07e78b2f",
   "metadata": {},
   "source": [
    "## 2) PCA com Numpy e decomposição espectral da matriz de covariância"
   ]
  },
  {
   "cell_type": "markdown",
   "id": "6d084557",
   "metadata": {},
   "source": [
    "### Centralizar a matriz de dados original $\\tilde{X}$ obtendo a matriz $X$.\n",
    "Centralizar a matriz de dados original obtendo a matriz X.\n",
    "A centralização de dados caracteriza-se pela subtração dos dados amostrais de cada variável, da sua média amostral.\n",
    "\\begin{equation}\n",
    "X = \\tilde{X} - \\mu \n",
    "\\end{equation}"
   ]
  },
  {
   "cell_type": "code",
   "execution_count": 8,
   "id": "86892ca6",
   "metadata": {},
   "outputs": [
    {
     "name": "stdout",
     "output_type": "stream",
     "text": [
      "(100, 784)\n",
      "(784,)\n",
      "(100, 784)\n"
     ]
    }
   ],
   "source": [
    "# Centralizando a matriz de dados\n",
    "X_data_cet = np.array(X_data)\n",
    "mean_x = np.mean(X_data_cet, axis=0)\n",
    "X_data_cet = X_data_cet - mean_x\n",
    "print(X_data_cet.shape)\n",
    "print(mean_x.shape)\n",
    "print(X_data_cet.shape)"
   ]
  },
  {
   "cell_type": "markdown",
   "id": "c012e323",
   "metadata": {},
   "source": [
    "### Calcular a matriz de covariância dos dados treinamento de duas maneiras:\n",
    "   \n",
    "* 1) Utilizado base de dados original $\\tilde{X}$ (não centralizada):\n",
    "\\begin{align} np.cov(\\tilde{X}) \\end{align}\n"
   ]
  },
  {
   "cell_type": "code",
   "execution_count": 9,
   "id": "b72ff19b",
   "metadata": {},
   "outputs": [
    {
     "name": "stdout",
     "output_type": "stream",
     "text": [
      "(784, 784)\n",
      "[[0.02688803 0.02537551 0.02367885 ... 0.00717625 0.00815968 0.00776793]\n",
      " [0.02537551 0.02510102 0.02327994 ... 0.00593291 0.00691252 0.0065909 ]]\n"
     ]
    }
   ],
   "source": [
    "# Calculando a matriz de covariância\n",
    "cov_mat_X = np.cov(X_data, rowvar=False)\n",
    "print(cov_mat_X.shape)\n",
    "# Imprimido os primeiros valores\n",
    "print(cov_mat_X[:2])"
   ]
  },
  {
   "cell_type": "markdown",
   "id": "d81b358b",
   "metadata": {},
   "source": [
    "### Calcular a decomposição espectral da matriz de covariância dos dados, isto é, $cov(X) = QΛQ^T$, usando a função do NumPy:\n",
    "\n",
    "\\begin{equation}\n",
    " cov(X) = QΛQ^T\n",
    "\\end{equation}\n",
    "\n",
    "\\begin{equation}\n",
    " w, Q =  np.linalg.eigh(cov(X))\n",
    "\\end{equation}\n",
    "\n",
    "* $w$ trata-se dos autovalores\n",
    "* $Q$ trata-se dos autovetores\n",
    "\n",
    "obtendo-se os autovalores w e seus autovetores associados nas colunas de Q.\n",
    "Atenção: os autovalores (e seus autovetores associados) devem ser ordenados em ordem decrescente."
   ]
  },
  {
   "cell_type": "code",
   "execution_count": 10,
   "id": "8278c354",
   "metadata": {},
   "outputs": [],
   "source": [
    "cov = np.cov(X_data_cet.T) / X_data_cet.shape[0] # Get covariance matrix"
   ]
  },
  {
   "cell_type": "code",
   "execution_count": 11,
   "id": "f02e60b8",
   "metadata": {},
   "outputs": [
    {
     "name": "stdout",
     "output_type": "stream",
     "text": [
      "(784,)\n",
      "(784, 784)\n",
      "[-1.04561212e-17 -7.72729184e-18 -7.53581839e-18 -6.20333060e-18\n",
      " -5.36951791e-18 -4.45346425e-18 -4.19317956e-18 -3.95238021e-18\n",
      " -3.69474557e-18 -3.36610803e-18 -3.30833723e-18 -3.24446303e-18\n",
      " -2.80920667e-18 -2.42470275e-18 -1.99351330e-18 -1.99217684e-18\n",
      " -1.93875415e-18 -1.92744962e-18 -1.90854192e-18 -1.87764617e-18]\n",
      "[[ 9.39394090e-14  2.67601889e-14  4.79776707e-14 ... -5.61887162e-02\n",
      "   9.41906642e-04 -4.82084617e-02]\n",
      " [ 5.39564737e-01  2.25478190e-01  1.75788878e-01 ... -5.51079324e-02\n",
      "  -3.02131599e-04 -4.57744052e-02]\n",
      " [ 3.16457994e-01 -5.12715511e-01  2.08838546e-01 ... -4.89522770e-02\n",
      "   8.48399789e-04 -4.38993653e-02]\n",
      " ...\n",
      " [-1.04975536e-02  9.20960459e-03 -1.43482592e-02 ... -7.49415370e-03\n",
      "  -1.42795713e-02 -2.63419719e-02]\n",
      " [ 2.99010716e-02  8.16296878e-03 -7.41732935e-03 ... -5.61939274e-03\n",
      "  -1.40704000e-02 -2.64475325e-02]\n",
      " [-3.01647472e-02  2.23046274e-03  6.68735219e-03 ... -3.25654354e-03\n",
      "  -1.30254823e-02 -2.59378674e-02]]\n"
     ]
    }
   ],
   "source": [
    "# Calcular a decomposição espectral \n",
    "w, Q = np.linalg.eigh(cov)\n",
    "print(w.shape)\n",
    "print(Q.shape)\n",
    "print(w[:20])\n",
    "print(Q[:20])"
   ]
  },
  {
   "cell_type": "code",
   "execution_count": 12,
   "id": "8de0b397",
   "metadata": {},
   "outputs": [
    {
     "name": "stdout",
     "output_type": "stream",
     "text": [
      "(784,)\n",
      "(784, 784)\n"
     ]
    }
   ],
   "source": [
    "print(w.shape)\n",
    "print(Q.shape)"
   ]
  },
  {
   "cell_type": "code",
   "execution_count": 13,
   "id": "a62bc0c8",
   "metadata": {},
   "outputs": [
    {
     "name": "stdout",
     "output_type": "stream",
     "text": [
      "[[-4.82084617e-02  9.41906642e-04 -5.61887162e-02 ...  4.79776707e-14\n",
      "   2.67601889e-14  9.39394090e-14]\n",
      " [-4.57744052e-02 -3.02131599e-04 -5.51079324e-02 ...  1.75788878e-01\n",
      "   2.25478190e-01  5.39564737e-01]\n",
      " [-4.38993653e-02  8.48399789e-04 -4.89522770e-02 ...  2.08838546e-01\n",
      "  -5.12715511e-01  3.16457994e-01]\n",
      " ...\n",
      " [-2.63419719e-02 -1.42795713e-02 -7.49415370e-03 ... -1.43482592e-02\n",
      "   9.20960459e-03 -1.04975536e-02]\n",
      " [-2.64475325e-02 -1.40704000e-02 -5.61939274e-03 ... -7.41732935e-03\n",
      "   8.16296878e-03  2.99010716e-02]\n",
      " [-2.59378674e-02 -1.30254823e-02 -3.25654354e-03 ...  6.68735219e-03\n",
      "   2.23046274e-03 -3.01647472e-02]]\n",
      "[0.06843784 0.0322305  0.0249443  0.01609114 0.01278806 0.01059933\n",
      " 0.00836246 0.0078762  0.00638471 0.00569733 0.00493035 0.004638\n",
      " 0.00409628 0.0034562  0.00307922 0.00280239 0.00270852 0.00241644\n",
      " 0.00230779 0.00199296]\n"
     ]
    }
   ],
   "source": [
    "# Ordenando os autovalores de forma decrescentes\n",
    "index = np.argsort(w)[::-1] #Obter índices para ordenação decrescente dos autovalores\n",
    "w_ord = w[index]\n",
    "\n",
    "# Ordenando os autovetores de forma decrescentes\n",
    "Q_ord = Q[:,index]\n",
    "\n",
    "print(Q_ord[:20])\n",
    "print(w_ord[:20])"
   ]
  },
  {
   "cell_type": "markdown",
   "id": "7bcbb9a0",
   "metadata": {},
   "source": [
    "Nota: O objetivo do PCA é construir um novo espaço de recursos. Os autovetores são os eixos desse novo espaço de recursos e os autovalores denotam a magnitude da variância ao longo desse eixo. Em outras palavras, um autovalor mais alto significa mais variância no eixo principal correspondente. Portanto, o conjunto de eixos com as variâncias mais altas são os recursos mais importantes neste novo espaço de recursos, pois eles contêm a maioria das informações. Obtendo as primeiras K colunas da matriz de autovetores, que têm os K maiores autovalores, formamos o que é chamado de matriz de projeção. O produto escalar de nossa matriz de dados e matriz de projeção, o que parece muito legal, mas na verdade é muito simples, é o espaço reduzido de recursos, o resultado do PCA."
   ]
  },
  {
   "cell_type": "code",
   "execution_count": 14,
   "id": "dd057194",
   "metadata": {},
   "outputs": [
    {
     "name": "stdout",
     "output_type": "stream",
     "text": [
      "(100, 56)\n",
      "[[ 0.38204774  1.2757327   1.28333889 ... -0.05818184  0.25420367\n",
      "  -0.08888482]\n",
      " [ 1.10245926  0.08989568 -0.78719794 ...  0.22417141 -0.03196828\n",
      "   0.0194932 ]\n",
      " [-0.83933669  3.41064603 -1.83797463 ... -0.00882328  0.11085038\n",
      "  -0.30734832]\n",
      " ...\n",
      " [-3.41223602 -2.08333353 -0.25179412 ... -0.06750843 -0.00773523\n",
      "   0.08192303]\n",
      " [-4.31749909 -0.99763634 -0.01008747 ... -0.03333808 -0.00647676\n",
      "   0.09692989]\n",
      " [-2.42203699  0.2268622   0.39937786 ... -0.14919296  0.26263224\n",
      "   0.01966261]]\n"
     ]
    }
   ],
   "source": [
    "# Ralizando a redução de dimensionalidade PCA\n",
    "pca_2 = np.dot(X_data_cet, Q_ord[:, :k])\n",
    "print(pca_2.shape)\n",
    "print(pca_2[:20])"
   ]
  },
  {
   "cell_type": "code",
   "execution_count": 15,
   "id": "e6d1fbfb",
   "metadata": {},
   "outputs": [
    {
     "name": "stdout",
     "output_type": "stream",
     "text": [
      "[25.590145826915883, 12.051564418709933, 9.327122280353983, 6.016769078272018, 4.781684786769851, 3.963282478113884, 3.126874227473685, 2.9450517621848205, 2.3873570184286055, 2.1303342828221603, 1.8435466221874635, 1.7342309952841615, 1.531674128010698, 1.2923360837204987, 1.151374946542343, 1.0478627120838528, 1.0127637612703666, 0.9035519997949406, 0.8629249304388896, 0.7452020976716356]\n",
      "\n",
      "[25.59014583 37.64171025 46.96883253 52.9856016  57.76728639 61.73056887\n",
      " 64.8574431  67.80249486 70.18985188 72.32018616 74.16373278 75.89796378\n",
      " 77.42963791 78.72197399 79.87334894 80.92121165 81.93397541 82.83752741\n",
      " 83.70045234 84.44565444]\n"
     ]
    }
   ],
   "source": [
    "# Calculando a Variância explicada de acordo com a quantidade de autovetores\n",
    "variance_explained = []\n",
    "for i in w_ord:\n",
    "     variance_explained.append((i/sum(w_ord))*100)\n",
    "\n",
    "print(variance_explained[:20])\n",
    "print(\"\")\n",
    "## Identificação de componentes que explicam pelo menos 95%\n",
    "cumulative_variance_explained = np.cumsum(variance_explained)\n",
    "print(cumulative_variance_explained[:20])"
   ]
  },
  {
   "cell_type": "code",
   "execution_count": 16,
   "id": "56de0a4e",
   "metadata": {},
   "outputs": [
    {
     "data": {
      "image/png": "[encoded data removed]",
      "text/plain": [
       "<Figure size 720x360 with 1 Axes>"
      ]
     },
     "metadata": {},
     "output_type": "display_data"
    }
   ],
   "source": [
    "plt.figure(figsize=(10, 5))\n",
    "plt.plot(cumulative_variance_explained)\n",
    "plt.title('Variabilidade Acumulada por Valores Singulares')\n",
    "plt.xlabel(\"Número de Valores Singulares\")\n",
    "plt.ylabel(\"Variabilidade Acumulda\")\n",
    "plt.savefig(\"vari_x_singulares.png\", bbox_inches='tight')\n",
    "plt.show()"
   ]
  },
  {
   "cell_type": "markdown",
   "id": "b118bb82",
   "metadata": {},
   "source": [
    "## 3) PCA com Numpy e SVD"
   ]
  },
  {
   "cell_type": "code",
   "execution_count": 17,
   "id": "ef44b058",
   "metadata": {},
   "outputs": [
    {
     "name": "stdout",
     "output_type": "stream",
     "text": [
      "U:  (100, 100) \n",
      "S:  (100,) \n",
      "Vt:  (100, 784)\n"
     ]
    }
   ],
   "source": [
    "# Calculate SVD com os dados \n",
    "U, S, Vt = np.linalg.svd(X_data_cet, full_matrices=False)\n",
    "print('U: ', U.shape, \n",
    "      '\\nS: ', S.shape, \n",
    "      '\\nVt: ', Vt.shape)"
   ]
  },
  {
   "cell_type": "code",
   "execution_count": 18,
   "id": "cdc29e50",
   "metadata": {},
   "outputs": [
    {
     "data": {
      "text/plain": [
       "(100, 784)"
      ]
     },
     "execution_count": 18,
     "metadata": {},
     "output_type": "execute_result"
    }
   ],
   "source": [
    "X_data_cet.shape"
   ]
  },
  {
   "cell_type": "code",
   "execution_count": 19,
   "id": "2330b0c0",
   "metadata": {},
   "outputs": [
    {
     "name": "stdout",
     "output_type": "stream",
     "text": [
      "[0.25590146 0.3764171  0.46968833 0.52985602 0.57767286 0.61730569\n",
      " 0.64857443 0.67802495 0.70189852 0.72320186 0.74163733 0.75897964\n",
      " 0.77429638 0.78721974 0.79873349 0.80921212 0.81933975 0.82837527\n",
      " 0.83700452 0.84445654 0.85134185 0.85813171 0.86441441 0.87058488\n",
      " 0.87627782 0.8819564  0.88710442 0.89198246 0.89673836 0.90143958\n",
      " 0.90575437 0.90990844 0.91382013 0.91750344 0.92093762 0.92418151\n",
      " 0.92735512 0.93040945 0.93325753 0.93603385 0.9386623  0.94124015\n",
      " 0.94373495 0.94616214 0.94857093 0.95091348 0.9530668  0.95510038\n",
      " 0.95706114 0.9589739  0.96082571 0.96260545 0.96435063 0.96605088\n",
      " 0.96761758 0.96918068 0.97065942 0.97208067 0.9734728  0.97484966\n",
      " 0.976186   0.97741246 0.97857142 0.97969397 0.98075635 0.98179965\n",
      " 0.98275775 0.98370917 0.98463906 0.9855452  0.98641968 0.98727799\n",
      " 0.98808497 0.98888188 0.98963766 0.99038772 0.99109695 0.99176991\n",
      " 0.99242084 0.99303908 0.99364147 0.99422362 0.99478667 0.99531993\n",
      " 0.9958406  0.99633702 0.99679773 0.99725286 0.99767921 0.99808883\n",
      " 0.9984599  0.99881573 0.99914319 0.9994648  0.99974758 0.99995965\n",
      " 0.99998743 0.99999933 1.         1.        ]\n"
     ]
    }
   ],
   "source": [
    "# Calculando a Variabilidade acumulada\n",
    "varia_acum = np.cumsum(S**2) / np.sum(S**2)\n",
    "print(varia_acum)"
   ]
  },
  {
   "cell_type": "code",
   "execution_count": 20,
   "id": "e993cd70",
   "metadata": {},
   "outputs": [
    {
     "data": {
      "image/png": "[encoded data removed]",
      "text/plain": [
       "<Figure size 720x360 with 1 Axes>"
      ]
     },
     "metadata": {},
     "output_type": "display_data"
    }
   ],
   "source": [
    "# Gerando um gráco de número de valores singulares versus variabilidade acumulada.\n",
    "y_plot = varia_acum\n",
    "x_plot = np.array(range(len(S)))\n",
    "\n",
    "plt.figure(figsize=(10, 5))\n",
    "plt.plot(x_plot, y_plot)\n",
    "plt.title('Variabilidade Acumulada por Valores Singulares')\n",
    "plt.xlabel(\"Número de Valores Singulares\")\n",
    "plt.ylabel(\"Variabilidade Acumulda\")\n",
    "plt.savefig(\"vari_x_singulares.png\", bbox_inches='tight')\n",
    "plt.show()"
   ]
  },
  {
   "cell_type": "code",
   "execution_count": 21,
   "id": "9083bf9c",
   "metadata": {},
   "outputs": [
    {
     "data": {
      "image/png": "[encoded data removed]",
      "text/plain": [
       "<Figure size 1080x1080 with 8 Axes>"
      ]
     },
     "metadata": {},
     "output_type": "display_data"
    }
   ],
   "source": [
    "# A imagem original e algumas vers ̃oes com diferentes quantidades de autovetores\n",
    "\n",
    "plt.figure(figsize=(15,15))\n",
    "for i in range(8):\n",
    "    plt.subplot(4,4,i+1)\n",
    "    plt.xticks([])\n",
    "    plt.yticks([])\n",
    "    plt.grid(True)\n",
    "    img = np.reshape(Vt[i], (28, 28))\n",
    "    plt.imshow(img, cmap=plt.cm.binary)\n",
    "plt.show()"
   ]
  },
  {
   "cell_type": "code",
   "execution_count": 22,
   "id": "e9cc5d0c",
   "metadata": {},
   "outputs": [
    {
     "name": "stdout",
     "output_type": "stream",
     "text": [
      "Variabilidade acumulada: 97.07%, até o 56-ésimo autovalor.\n"
     ]
    }
   ],
   "source": [
    "n_vari_acum = 0.97 # Variabilidade acumulada esperada\n",
    "r_melhores = [ n for n, i in enumerate(varia_acum) if i > n_vari_acum ][0]\n",
    "print( 'Variabilidade acumulada: {:.2f}%, até o {:d}-ésimo autovalor.'.format(100 * varia_acum[r_melhores], r_melhores))"
   ]
  },
  {
   "cell_type": "code",
   "execution_count": 23,
   "id": "bd0acb2d",
   "metadata": {},
   "outputs": [
    {
     "data": {
      "text/plain": [
       "array([0.25590146, 0.3764171 , 0.46968833, 0.52985602, 0.57767286,\n",
       "       0.61730569, 0.64857443, 0.67802495, 0.70189852, 0.72320186,\n",
       "       0.74163733, 0.75897964, 0.77429638, 0.78721974, 0.79873349,\n",
       "       0.80921212, 0.81933975, 0.82837527, 0.83700452, 0.84445654,\n",
       "       0.85134185, 0.85813171, 0.86441441, 0.87058488, 0.87627782,\n",
       "       0.8819564 , 0.88710442, 0.89198246, 0.89673836, 0.90143958,\n",
       "       0.90575437, 0.90990844, 0.91382013, 0.91750344, 0.92093762,\n",
       "       0.92418151, 0.92735512, 0.93040945, 0.93325753, 0.93603385,\n",
       "       0.9386623 , 0.94124015, 0.94373495, 0.94616214, 0.94857093,\n",
       "       0.95091348, 0.9530668 , 0.95510038, 0.95706114, 0.9589739 ,\n",
       "       0.96082571, 0.96260545, 0.96435063, 0.96605088, 0.96761758,\n",
       "       0.96918068])"
      ]
     },
     "execution_count": 23,
     "metadata": {},
     "output_type": "execute_result"
    }
   ],
   "source": [
    "varia_acum[:r_melhores]"
   ]
  },
  {
   "cell_type": "code",
   "execution_count": 24,
   "id": "ede9457e",
   "metadata": {},
   "outputs": [
    {
     "name": "stdout",
     "output_type": "stream",
     "text": [
      "Dimensões: \n",
      "X_train: (100, 784) --> X_train_new:  (100, 56)\n",
      "V:       (100, 784) --> V_hat: (784, 56)\n"
     ]
    }
   ],
   "source": [
    "# Ralizando a redução de dimensionalidade PCA\n",
    "V_new  = Vt[:r_melhores,:].T \n",
    "pca_3 = np.dot( X_data_cet, V_new)\n",
    "#X_test_new  = np.dot( X_test_cent,  V_new )\n",
    "\n",
    "print( 'Dimensões: \\nX_train: {:} --> X_train_new:  {:}'\\\n",
    "      .format(X_data_cet.shape, pca_3.shape) )\n",
    "\n",
    "print( 'V:       {:} --> V_hat: {:}'\\\n",
    "      .format(Vt.shape, V_new.shape) )"
   ]
  },
  {
   "cell_type": "code",
   "execution_count": 25,
   "id": "15aed2f8",
   "metadata": {},
   "outputs": [
    {
     "data": {
      "text/plain": [
       "array([[ 3.82047736e-01, -1.27573270e+00,  1.28333889e+00, ...,\n",
       "         5.81818429e-02,  2.54203670e-01,  8.88848157e-02],\n",
       "       [ 1.10245926e+00, -8.98956824e-02, -7.87197941e-01, ...,\n",
       "        -2.24171410e-01, -3.19682765e-02, -1.94932005e-02],\n",
       "       [-8.39336694e-01, -3.41064603e+00, -1.83797463e+00, ...,\n",
       "         8.82328229e-03,  1.10850382e-01,  3.07348321e-01],\n",
       "       ...,\n",
       "       [-3.79806624e+00,  5.20366001e+00,  9.52823136e-01, ...,\n",
       "        -6.92068568e-02,  6.24299674e-02,  1.53068673e-01],\n",
       "       [ 2.01524399e+00,  4.63177864e-01, -2.97291546e-01, ...,\n",
       "         3.92809260e-01, -3.11341384e-01,  1.53600566e-01],\n",
       "       [ 1.55967073e+00, -2.16633239e+00, -1.23189912e+00, ...,\n",
       "        -2.24302786e-02, -8.49897827e-02,  2.46960405e-03]])"
      ]
     },
     "execution_count": 25,
     "metadata": {},
     "output_type": "execute_result"
    }
   ],
   "source": [
    "pca_3"
   ]
  },
  {
   "cell_type": "code",
   "execution_count": 26,
   "id": "a1fbee7b",
   "metadata": {},
   "outputs": [
    {
     "data": {
      "image/png": "[encoded data removed]",
      "text/plain": [
       "<Figure size 1080x1080 with 8 Axes>"
      ]
     },
     "metadata": {},
     "output_type": "display_data"
    }
   ],
   "source": [
    "plt.figure(figsize=(15,15))\n",
    "for i in range(8):\n",
    "    plt.subplot(4,4,i+1)\n",
    "    plt.xticks([])\n",
    "    plt.yticks([])\n",
    "    plt.grid(True)\n",
    "    img = np.reshape(pca_3[i], (8, 7))\n",
    "    plt.imshow(img, cmap=plt.cm.binary)\n",
    "plt.show()"
   ]
  },
  {
   "cell_type": "code",
   "execution_count": null,
   "id": "c71b8c5f",
   "metadata": {},
   "outputs": [],
   "source": []
  }
 ],
 "metadata": {
  "kernelspec": {
   "display_name": "Python 3 (ipykernel)",
   "language": "python",
   "name": "python3"
  },
  "language_info": {
   "codemirror_mode": {
    "name": "ipython",
    "version": 3
   },
   "file_extension": ".py",
   "mimetype": "text/x-python",
   "name": "python",
   "nbconvert_exporter": "python",
   "pygments_lexer": "ipython3",
   "version": "3.8.12"
  }
 },
 "nbformat": 4,
 "nbformat_minor": 5
}
