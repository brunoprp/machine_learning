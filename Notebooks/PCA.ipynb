{
 "cells": [
  {
   "cell_type": "markdown",
   "id": "de1488d9",
   "metadata": {},
   "source": [
    "# Aprendizado de Máquina - 2021.2\n",
    "  * Prof. Ana Luiza Bessa de Paula Barros\n",
    "  * Programa de Pós-graduação em Ciência da Computacão - PPGCC/UECE\n",
    "## Atividade 2  PCA (Principal Component Analysis)\n",
    "  * Domingos Bruno Sousa Santos"
   ]
  },
  {
   "cell_type": "markdown",
   "id": "5d36aa73",
   "metadata": {},
   "source": [
    "## Roteiro\n",
    " * 1) PCA com sklearn\n",
    " * 2) PCA com Numpy e decomposição espectral da matriz de covariância\n",
    " * 3) PCA com Numpy e SVD"
   ]
  },
  {
   "cell_type": "code",
   "execution_count": 1,
   "id": "22bc96fc",
   "metadata": {},
   "outputs": [],
   "source": [
    "import pandas as pd\n",
    "import numpy as np\n",
    "import matplotlib.pyplot as plt\n",
    "from sklearn.decomposition import PCA\n",
    "plt.style.use('seaborn')"
   ]
  },
  {
   "cell_type": "markdown",
   "id": "e68fb560",
   "metadata": {},
   "source": [
    "### Leituda dos dados"
   ]
  },
  {
   "cell_type": "code",
   "execution_count": 2,
   "id": "8ee12b44",
   "metadata": {},
   "outputs": [
    {
     "data": {
      "text/html": [
       "<div>\n",
       "<style scoped>\n",
       "    .dataframe tbody tr th:only-of-type {\n",
       "        vertical-align: middle;\n",
       "    }\n",
       "\n",
       "    .dataframe tbody tr th {\n",
       "        vertical-align: top;\n",
       "    }\n",
       "\n",
       "    .dataframe thead th {\n",
       "        text-align: right;\n",
       "    }\n",
       "</style>\n",
       "<table border=\"1\" class=\"dataframe\">\n",
       "  <thead>\n",
       "    <tr style=\"text-align: right;\">\n",
       "      <th></th>\n",
       "      <th>fixed acidity</th>\n",
       "      <th>volatile acidity</th>\n",
       "      <th>citric acid</th>\n",
       "      <th>residual sugar</th>\n",
       "      <th>chlorides</th>\n",
       "      <th>free sulfur dioxide</th>\n",
       "      <th>total sulfur dioxide</th>\n",
       "      <th>density</th>\n",
       "      <th>pH</th>\n",
       "      <th>sulphates</th>\n",
       "      <th>alcohol</th>\n",
       "      <th>quality</th>\n",
       "    </tr>\n",
       "  </thead>\n",
       "  <tbody>\n",
       "    <tr>\n",
       "      <th>0</th>\n",
       "      <td>7.4</td>\n",
       "      <td>0.700</td>\n",
       "      <td>0.00</td>\n",
       "      <td>1.9</td>\n",
       "      <td>0.076</td>\n",
       "      <td>11.0</td>\n",
       "      <td>34.0</td>\n",
       "      <td>0.99780</td>\n",
       "      <td>3.51</td>\n",
       "      <td>0.56</td>\n",
       "      <td>9.4</td>\n",
       "      <td>5</td>\n",
       "    </tr>\n",
       "    <tr>\n",
       "      <th>1</th>\n",
       "      <td>7.8</td>\n",
       "      <td>0.880</td>\n",
       "      <td>0.00</td>\n",
       "      <td>2.6</td>\n",
       "      <td>0.098</td>\n",
       "      <td>25.0</td>\n",
       "      <td>67.0</td>\n",
       "      <td>0.99680</td>\n",
       "      <td>3.20</td>\n",
       "      <td>0.68</td>\n",
       "      <td>9.8</td>\n",
       "      <td>5</td>\n",
       "    </tr>\n",
       "    <tr>\n",
       "      <th>2</th>\n",
       "      <td>7.8</td>\n",
       "      <td>0.760</td>\n",
       "      <td>0.04</td>\n",
       "      <td>2.3</td>\n",
       "      <td>0.092</td>\n",
       "      <td>15.0</td>\n",
       "      <td>54.0</td>\n",
       "      <td>0.99700</td>\n",
       "      <td>3.26</td>\n",
       "      <td>0.65</td>\n",
       "      <td>9.8</td>\n",
       "      <td>5</td>\n",
       "    </tr>\n",
       "    <tr>\n",
       "      <th>3</th>\n",
       "      <td>11.2</td>\n",
       "      <td>0.280</td>\n",
       "      <td>0.56</td>\n",
       "      <td>1.9</td>\n",
       "      <td>0.075</td>\n",
       "      <td>17.0</td>\n",
       "      <td>60.0</td>\n",
       "      <td>0.99800</td>\n",
       "      <td>3.16</td>\n",
       "      <td>0.58</td>\n",
       "      <td>9.8</td>\n",
       "      <td>6</td>\n",
       "    </tr>\n",
       "    <tr>\n",
       "      <th>4</th>\n",
       "      <td>7.4</td>\n",
       "      <td>0.700</td>\n",
       "      <td>0.00</td>\n",
       "      <td>1.9</td>\n",
       "      <td>0.076</td>\n",
       "      <td>11.0</td>\n",
       "      <td>34.0</td>\n",
       "      <td>0.99780</td>\n",
       "      <td>3.51</td>\n",
       "      <td>0.56</td>\n",
       "      <td>9.4</td>\n",
       "      <td>5</td>\n",
       "    </tr>\n",
       "    <tr>\n",
       "      <th>...</th>\n",
       "      <td>...</td>\n",
       "      <td>...</td>\n",
       "      <td>...</td>\n",
       "      <td>...</td>\n",
       "      <td>...</td>\n",
       "      <td>...</td>\n",
       "      <td>...</td>\n",
       "      <td>...</td>\n",
       "      <td>...</td>\n",
       "      <td>...</td>\n",
       "      <td>...</td>\n",
       "      <td>...</td>\n",
       "    </tr>\n",
       "    <tr>\n",
       "      <th>1594</th>\n",
       "      <td>6.2</td>\n",
       "      <td>0.600</td>\n",
       "      <td>0.08</td>\n",
       "      <td>2.0</td>\n",
       "      <td>0.090</td>\n",
       "      <td>32.0</td>\n",
       "      <td>44.0</td>\n",
       "      <td>0.99490</td>\n",
       "      <td>3.45</td>\n",
       "      <td>0.58</td>\n",
       "      <td>10.5</td>\n",
       "      <td>5</td>\n",
       "    </tr>\n",
       "    <tr>\n",
       "      <th>1595</th>\n",
       "      <td>5.9</td>\n",
       "      <td>0.550</td>\n",
       "      <td>0.10</td>\n",
       "      <td>2.2</td>\n",
       "      <td>0.062</td>\n",
       "      <td>39.0</td>\n",
       "      <td>51.0</td>\n",
       "      <td>0.99512</td>\n",
       "      <td>3.52</td>\n",
       "      <td>0.76</td>\n",
       "      <td>11.2</td>\n",
       "      <td>6</td>\n",
       "    </tr>\n",
       "    <tr>\n",
       "      <th>1596</th>\n",
       "      <td>6.3</td>\n",
       "      <td>0.510</td>\n",
       "      <td>0.13</td>\n",
       "      <td>2.3</td>\n",
       "      <td>0.076</td>\n",
       "      <td>29.0</td>\n",
       "      <td>40.0</td>\n",
       "      <td>0.99574</td>\n",
       "      <td>3.42</td>\n",
       "      <td>0.75</td>\n",
       "      <td>11.0</td>\n",
       "      <td>6</td>\n",
       "    </tr>\n",
       "    <tr>\n",
       "      <th>1597</th>\n",
       "      <td>5.9</td>\n",
       "      <td>0.645</td>\n",
       "      <td>0.12</td>\n",
       "      <td>2.0</td>\n",
       "      <td>0.075</td>\n",
       "      <td>32.0</td>\n",
       "      <td>44.0</td>\n",
       "      <td>0.99547</td>\n",
       "      <td>3.57</td>\n",
       "      <td>0.71</td>\n",
       "      <td>10.2</td>\n",
       "      <td>5</td>\n",
       "    </tr>\n",
       "    <tr>\n",
       "      <th>1598</th>\n",
       "      <td>6.0</td>\n",
       "      <td>0.310</td>\n",
       "      <td>0.47</td>\n",
       "      <td>3.6</td>\n",
       "      <td>0.067</td>\n",
       "      <td>18.0</td>\n",
       "      <td>42.0</td>\n",
       "      <td>0.99549</td>\n",
       "      <td>3.39</td>\n",
       "      <td>0.66</td>\n",
       "      <td>11.0</td>\n",
       "      <td>6</td>\n",
       "    </tr>\n",
       "  </tbody>\n",
       "</table>\n",
       "<p>1599 rows × 12 columns</p>\n",
       "</div>"
      ],
      "text/plain": [
       "      fixed acidity  volatile acidity  citric acid  residual sugar  chlorides  \\\n",
       "0               7.4             0.700         0.00             1.9      0.076   \n",
       "1               7.8             0.880         0.00             2.6      0.098   \n",
       "2               7.8             0.760         0.04             2.3      0.092   \n",
       "3              11.2             0.280         0.56             1.9      0.075   \n",
       "4               7.4             0.700         0.00             1.9      0.076   \n",
       "...             ...               ...          ...             ...        ...   \n",
       "1594            6.2             0.600         0.08             2.0      0.090   \n",
       "1595            5.9             0.550         0.10             2.2      0.062   \n",
       "1596            6.3             0.510         0.13             2.3      0.076   \n",
       "1597            5.9             0.645         0.12             2.0      0.075   \n",
       "1598            6.0             0.310         0.47             3.6      0.067   \n",
       "\n",
       "      free sulfur dioxide  total sulfur dioxide  density    pH  sulphates  \\\n",
       "0                    11.0                  34.0  0.99780  3.51       0.56   \n",
       "1                    25.0                  67.0  0.99680  3.20       0.68   \n",
       "2                    15.0                  54.0  0.99700  3.26       0.65   \n",
       "3                    17.0                  60.0  0.99800  3.16       0.58   \n",
       "4                    11.0                  34.0  0.99780  3.51       0.56   \n",
       "...                   ...                   ...      ...   ...        ...   \n",
       "1594                 32.0                  44.0  0.99490  3.45       0.58   \n",
       "1595                 39.0                  51.0  0.99512  3.52       0.76   \n",
       "1596                 29.0                  40.0  0.99574  3.42       0.75   \n",
       "1597                 32.0                  44.0  0.99547  3.57       0.71   \n",
       "1598                 18.0                  42.0  0.99549  3.39       0.66   \n",
       "\n",
       "      alcohol  quality  \n",
       "0         9.4        5  \n",
       "1         9.8        5  \n",
       "2         9.8        5  \n",
       "3         9.8        6  \n",
       "4         9.4        5  \n",
       "...       ...      ...  \n",
       "1594     10.5        5  \n",
       "1595     11.2        6  \n",
       "1596     11.0        6  \n",
       "1597     10.2        5  \n",
       "1598     11.0        6  \n",
       "\n",
       "[1599 rows x 12 columns]"
      ]
     },
     "execution_count": 2,
     "metadata": {},
     "output_type": "execute_result"
    }
   ],
   "source": [
    "data_df = pd.read_csv(\"winequality-red.csv\", delimiter=';')\n",
    "data_df"
   ]
  },
  {
   "cell_type": "code",
   "execution_count": 3,
   "id": "b41a8b95",
   "metadata": {},
   "outputs": [],
   "source": [
    "# Removendo os rotulos\n",
    "X_data = data_df.iloc[:, 0: 11]\n",
    "Y_data = data_df[\"quality\"].values"
   ]
  },
  {
   "cell_type": "code",
   "execution_count": 4,
   "id": "26cc49f9",
   "metadata": {},
   "outputs": [
    {
     "data": {
      "text/html": [
       "<div>\n",
       "<style scoped>\n",
       "    .dataframe tbody tr th:only-of-type {\n",
       "        vertical-align: middle;\n",
       "    }\n",
       "\n",
       "    .dataframe tbody tr th {\n",
       "        vertical-align: top;\n",
       "    }\n",
       "\n",
       "    .dataframe thead th {\n",
       "        text-align: right;\n",
       "    }\n",
       "</style>\n",
       "<table border=\"1\" class=\"dataframe\">\n",
       "  <thead>\n",
       "    <tr style=\"text-align: right;\">\n",
       "      <th></th>\n",
       "      <th>fixed acidity</th>\n",
       "      <th>volatile acidity</th>\n",
       "      <th>citric acid</th>\n",
       "      <th>residual sugar</th>\n",
       "      <th>chlorides</th>\n",
       "      <th>free sulfur dioxide</th>\n",
       "      <th>total sulfur dioxide</th>\n",
       "      <th>density</th>\n",
       "      <th>pH</th>\n",
       "      <th>sulphates</th>\n",
       "      <th>alcohol</th>\n",
       "    </tr>\n",
       "  </thead>\n",
       "  <tbody>\n",
       "    <tr>\n",
       "      <th>0</th>\n",
       "      <td>7.4</td>\n",
       "      <td>0.700</td>\n",
       "      <td>0.00</td>\n",
       "      <td>1.9</td>\n",
       "      <td>0.076</td>\n",
       "      <td>11.0</td>\n",
       "      <td>34.0</td>\n",
       "      <td>0.99780</td>\n",
       "      <td>3.51</td>\n",
       "      <td>0.56</td>\n",
       "      <td>9.4</td>\n",
       "    </tr>\n",
       "    <tr>\n",
       "      <th>1</th>\n",
       "      <td>7.8</td>\n",
       "      <td>0.880</td>\n",
       "      <td>0.00</td>\n",
       "      <td>2.6</td>\n",
       "      <td>0.098</td>\n",
       "      <td>25.0</td>\n",
       "      <td>67.0</td>\n",
       "      <td>0.99680</td>\n",
       "      <td>3.20</td>\n",
       "      <td>0.68</td>\n",
       "      <td>9.8</td>\n",
       "    </tr>\n",
       "    <tr>\n",
       "      <th>2</th>\n",
       "      <td>7.8</td>\n",
       "      <td>0.760</td>\n",
       "      <td>0.04</td>\n",
       "      <td>2.3</td>\n",
       "      <td>0.092</td>\n",
       "      <td>15.0</td>\n",
       "      <td>54.0</td>\n",
       "      <td>0.99700</td>\n",
       "      <td>3.26</td>\n",
       "      <td>0.65</td>\n",
       "      <td>9.8</td>\n",
       "    </tr>\n",
       "    <tr>\n",
       "      <th>3</th>\n",
       "      <td>11.2</td>\n",
       "      <td>0.280</td>\n",
       "      <td>0.56</td>\n",
       "      <td>1.9</td>\n",
       "      <td>0.075</td>\n",
       "      <td>17.0</td>\n",
       "      <td>60.0</td>\n",
       "      <td>0.99800</td>\n",
       "      <td>3.16</td>\n",
       "      <td>0.58</td>\n",
       "      <td>9.8</td>\n",
       "    </tr>\n",
       "    <tr>\n",
       "      <th>4</th>\n",
       "      <td>7.4</td>\n",
       "      <td>0.700</td>\n",
       "      <td>0.00</td>\n",
       "      <td>1.9</td>\n",
       "      <td>0.076</td>\n",
       "      <td>11.0</td>\n",
       "      <td>34.0</td>\n",
       "      <td>0.99780</td>\n",
       "      <td>3.51</td>\n",
       "      <td>0.56</td>\n",
       "      <td>9.4</td>\n",
       "    </tr>\n",
       "    <tr>\n",
       "      <th>...</th>\n",
       "      <td>...</td>\n",
       "      <td>...</td>\n",
       "      <td>...</td>\n",
       "      <td>...</td>\n",
       "      <td>...</td>\n",
       "      <td>...</td>\n",
       "      <td>...</td>\n",
       "      <td>...</td>\n",
       "      <td>...</td>\n",
       "      <td>...</td>\n",
       "      <td>...</td>\n",
       "    </tr>\n",
       "    <tr>\n",
       "      <th>1594</th>\n",
       "      <td>6.2</td>\n",
       "      <td>0.600</td>\n",
       "      <td>0.08</td>\n",
       "      <td>2.0</td>\n",
       "      <td>0.090</td>\n",
       "      <td>32.0</td>\n",
       "      <td>44.0</td>\n",
       "      <td>0.99490</td>\n",
       "      <td>3.45</td>\n",
       "      <td>0.58</td>\n",
       "      <td>10.5</td>\n",
       "    </tr>\n",
       "    <tr>\n",
       "      <th>1595</th>\n",
       "      <td>5.9</td>\n",
       "      <td>0.550</td>\n",
       "      <td>0.10</td>\n",
       "      <td>2.2</td>\n",
       "      <td>0.062</td>\n",
       "      <td>39.0</td>\n",
       "      <td>51.0</td>\n",
       "      <td>0.99512</td>\n",
       "      <td>3.52</td>\n",
       "      <td>0.76</td>\n",
       "      <td>11.2</td>\n",
       "    </tr>\n",
       "    <tr>\n",
       "      <th>1596</th>\n",
       "      <td>6.3</td>\n",
       "      <td>0.510</td>\n",
       "      <td>0.13</td>\n",
       "      <td>2.3</td>\n",
       "      <td>0.076</td>\n",
       "      <td>29.0</td>\n",
       "      <td>40.0</td>\n",
       "      <td>0.99574</td>\n",
       "      <td>3.42</td>\n",
       "      <td>0.75</td>\n",
       "      <td>11.0</td>\n",
       "    </tr>\n",
       "    <tr>\n",
       "      <th>1597</th>\n",
       "      <td>5.9</td>\n",
       "      <td>0.645</td>\n",
       "      <td>0.12</td>\n",
       "      <td>2.0</td>\n",
       "      <td>0.075</td>\n",
       "      <td>32.0</td>\n",
       "      <td>44.0</td>\n",
       "      <td>0.99547</td>\n",
       "      <td>3.57</td>\n",
       "      <td>0.71</td>\n",
       "      <td>10.2</td>\n",
       "    </tr>\n",
       "    <tr>\n",
       "      <th>1598</th>\n",
       "      <td>6.0</td>\n",
       "      <td>0.310</td>\n",
       "      <td>0.47</td>\n",
       "      <td>3.6</td>\n",
       "      <td>0.067</td>\n",
       "      <td>18.0</td>\n",
       "      <td>42.0</td>\n",
       "      <td>0.99549</td>\n",
       "      <td>3.39</td>\n",
       "      <td>0.66</td>\n",
       "      <td>11.0</td>\n",
       "    </tr>\n",
       "  </tbody>\n",
       "</table>\n",
       "<p>1599 rows × 11 columns</p>\n",
       "</div>"
      ],
      "text/plain": [
       "      fixed acidity  volatile acidity  citric acid  residual sugar  chlorides  \\\n",
       "0               7.4             0.700         0.00             1.9      0.076   \n",
       "1               7.8             0.880         0.00             2.6      0.098   \n",
       "2               7.8             0.760         0.04             2.3      0.092   \n",
       "3              11.2             0.280         0.56             1.9      0.075   \n",
       "4               7.4             0.700         0.00             1.9      0.076   \n",
       "...             ...               ...          ...             ...        ...   \n",
       "1594            6.2             0.600         0.08             2.0      0.090   \n",
       "1595            5.9             0.550         0.10             2.2      0.062   \n",
       "1596            6.3             0.510         0.13             2.3      0.076   \n",
       "1597            5.9             0.645         0.12             2.0      0.075   \n",
       "1598            6.0             0.310         0.47             3.6      0.067   \n",
       "\n",
       "      free sulfur dioxide  total sulfur dioxide  density    pH  sulphates  \\\n",
       "0                    11.0                  34.0  0.99780  3.51       0.56   \n",
       "1                    25.0                  67.0  0.99680  3.20       0.68   \n",
       "2                    15.0                  54.0  0.99700  3.26       0.65   \n",
       "3                    17.0                  60.0  0.99800  3.16       0.58   \n",
       "4                    11.0                  34.0  0.99780  3.51       0.56   \n",
       "...                   ...                   ...      ...   ...        ...   \n",
       "1594                 32.0                  44.0  0.99490  3.45       0.58   \n",
       "1595                 39.0                  51.0  0.99512  3.52       0.76   \n",
       "1596                 29.0                  40.0  0.99574  3.42       0.75   \n",
       "1597                 32.0                  44.0  0.99547  3.57       0.71   \n",
       "1598                 18.0                  42.0  0.99549  3.39       0.66   \n",
       "\n",
       "      alcohol  \n",
       "0         9.4  \n",
       "1         9.8  \n",
       "2         9.8  \n",
       "3         9.8  \n",
       "4         9.4  \n",
       "...       ...  \n",
       "1594     10.5  \n",
       "1595     11.2  \n",
       "1596     11.0  \n",
       "1597     10.2  \n",
       "1598     11.0  \n",
       "\n",
       "[1599 rows x 11 columns]"
      ]
     },
     "execution_count": 4,
     "metadata": {},
     "output_type": "execute_result"
    }
   ],
   "source": [
    "X_data"
   ]
  },
  {
   "cell_type": "markdown",
   "id": "87638626",
   "metadata": {},
   "source": [
    "## 1) PCA com sklearn"
   ]
  },
  {
   "cell_type": "code",
   "execution_count": 5,
   "id": "c06b8db1",
   "metadata": {},
   "outputs": [
    {
     "data": {
      "image/png": "[encoded data removed]",
      "text/plain": [
       "<Figure size 576x396 with 1 Axes>"
      ]
     },
     "metadata": {},
     "output_type": "display_data"
    }
   ],
   "source": [
    "# Variância explicada de acordo com a quantidade de autovetores\n",
    "pca = PCA().fit(X_data)\n",
    "plt.plot(np.cumsum(pca.explained_variance_ratio_))\n",
    "plt.xlabel('number of components')\n",
    "plt.ylabel('cumulative explained variance');"
   ]
  },
  {
   "cell_type": "code",
   "execution_count": 6,
   "id": "ddd2aec4",
   "metadata": {},
   "outputs": [
    {
     "data": {
      "text/plain": [
       "array([0.94657698, 0.99494528, 0.99753445, 0.99905342, 0.99992697,\n",
       "       0.99996154, 0.9999809 , 0.99999037, 0.99999878, 1.        ,\n",
       "       1.        ])"
      ]
     },
     "execution_count": 6,
     "metadata": {},
     "output_type": "execute_result"
    }
   ],
   "source": [
    "#  94.65% da variância nos dados é explicada pelo primeiro componente principal\n",
    "np.cumsum(pca.explained_variance_ratio_)"
   ]
  },
  {
   "cell_type": "code",
   "execution_count": 7,
   "id": "70ba3cc5",
   "metadata": {},
   "outputs": [
    {
     "name": "stdout",
     "output_type": "stream",
     "text": [
      "(1599, 1)\n",
      "\n",
      "[[-13.22490501]\n",
      " [ 22.03772361]\n",
      " [  7.16267333]\n",
      " ...\n",
      " [ -3.43135351]\n",
      " [  1.13287834]\n",
      " [ -3.8743766 ]]\n"
     ]
    }
   ],
   "source": [
    "# Fazendo a redução da dimensionalidade\n",
    "k = 1 # \n",
    "pca = PCA(n_components=k)\n",
    "pca_1 = pca.fit_transform(X_data)\n",
    "print(pca_1.shape)\n",
    "print(\"\")\n",
    "print(pca_1)"
   ]
  },
  {
   "cell_type": "markdown",
   "id": "169c1730",
   "metadata": {},
   "source": [
    "## 2) PCA com Numpy e decomposição espectral da matriz de covariância"
   ]
  },
  {
   "cell_type": "markdown",
   "id": "49a1db2f",
   "metadata": {},
   "source": [
    "### Centralizar a matriz de dados original $\\tilde{X}$ obtendo a matriz $X$.\n",
    "Centralizar a matriz de dados original obtendo a matriz X.\n",
    "A centralização de dados caracteriza-se pela subtração dos dados amostrais de cada variável, da sua média amostral.\n",
    "\\begin{equation}\n",
    "X = \\tilde{X} - \\mu \n",
    "\\end{equation}"
   ]
  },
  {
   "cell_type": "code",
   "execution_count": 8,
   "id": "d5087a21",
   "metadata": {},
   "outputs": [
    {
     "name": "stdout",
     "output_type": "stream",
     "text": [
      "(1599, 11)\n",
      "(11,)\n",
      "(1599, 11)\n"
     ]
    }
   ],
   "source": [
    "# Centralizando a matriz de dados\n",
    "X_data_cet = np.array(X_data)\n",
    "mean_x = np.mean(X_data_cet, axis=0)\n",
    "X_data_cet = X_data_cet - mean_x\n",
    "print(X_data_cet.shape)\n",
    "print(mean_x.shape)\n",
    "print(X_data_cet.shape)"
   ]
  },
  {
   "cell_type": "markdown",
   "id": "5de6edb3",
   "metadata": {},
   "source": [
    "### Calcular a matriz de covariância dos dados treinamento de duas maneiras:\n",
    "   \n",
    "* 1) Utilizado base de dados original $\\tilde{X}$ (não centralizada):\n",
    "\\begin{align} np.cov(\\tilde{X}) \\end{align}\n"
   ]
  },
  {
   "cell_type": "code",
   "execution_count": 9,
   "id": "6c079234",
   "metadata": {},
   "outputs": [
    {
     "name": "stdout",
     "output_type": "stream",
     "text": [
      "(11, 11)\n",
      "[[ 3.03141639e+00 -7.98514168e-02  2.27820004e-01  2.81756262e-01\n",
      "   7.67869249e-03 -2.80092149e+00 -6.48234586e+00  2.19522358e-03\n",
      "  -1.83585704e-01  5.40100916e-02 -1.14421153e-01]\n",
      " [-7.98514168e-02  3.20623777e-02 -1.92716208e-02  4.84190976e-04\n",
      "   5.16586920e-04 -1.96735904e-02  4.50425692e-01  7.44366516e-06\n",
      "   6.49469930e-03 -7.92143384e-03 -3.86002214e-02]\n",
      " [ 2.27820004e-01 -1.92716208e-02  3.79474831e-02  3.94342700e-02\n",
      "   1.86872478e-03 -1.24252114e-01  2.27697274e-01  1.34174581e-04\n",
      "  -1.62975823e-02  1.03277145e-02  2.28151729e-02]\n",
      " [ 2.81756262e-01  4.84190976e-04  3.94342700e-02  1.98789713e+00\n",
      "   3.69017590e-03  2.75861145e+00  9.41644148e+00  9.45410862e-04\n",
      "  -1.86442890e-02  1.32094136e-03  6.32189598e-02]\n",
      " [ 7.67869249e-03  5.16586920e-04  1.86872478e-03  3.69017590e-03\n",
      "   2.21514265e-03  2.73830308e-03  7.33867502e-02  1.78217568e-05\n",
      "  -1.92574496e-03  2.96187795e-03 -1.10915178e-02]]\n"
     ]
    }
   ],
   "source": [
    "# Calculando a matriz de covariância\n",
    "cov_mat_X = np.cov(X_data, rowvar=False)\n",
    "print(cov_mat_X.shape)\n",
    "# Imprimido os primeiros valores\n",
    "print(cov_mat_X[:5])"
   ]
  },
  {
   "cell_type": "markdown",
   "id": "67615d87",
   "metadata": {},
   "source": [
    "### Calcular a decomposição espectral da matriz de covariância dos dados, isto é, $cov(X) = QΛQ^T$, usando a função do NumPy:\n",
    "\n",
    "\\begin{equation}\n",
    " cov(X) = QΛQ^T\n",
    "\\end{equation}\n",
    "\n",
    "\\begin{equation}\n",
    " w, Q =  np.linalg.eigh(cov(X))\n",
    "\\end{equation}\n",
    "\n",
    "* $w$ trata-se dos autovalores\n",
    "* $Q$ trata-se dos autovetores\n",
    "\n",
    "obtendo-se os autovalores w e seus autovetores associados nas colunas de Q.\n",
    "Atenção: os autovalores (e seus autovetores associados) devem ser ordenados em ordem decrescente."
   ]
  },
  {
   "cell_type": "code",
   "execution_count": 10,
   "id": "7709930a",
   "metadata": {},
   "outputs": [],
   "source": [
    "cov = np.cov(X_data_cet.T) / X_data_cet.shape[0] # Get covariance matrix"
   ]
  },
  {
   "cell_type": "code",
   "execution_count": 11,
   "id": "61784417",
   "metadata": {},
   "outputs": [
    {
     "name": "stdout",
     "output_type": "stream",
     "text": [
      "(11,)\n",
      "(11, 11)\n",
      "[3.51146133e-10 9.09942182e-07 6.30267925e-06 7.09597783e-06\n",
      " 1.45044764e-05 2.58891366e-05 6.54371707e-04 1.13784573e-03\n",
      " 1.93952613e-03 3.62322769e-02 7.09072593e-01]\n",
      "[[-9.42137146e-04  1.11894679e-02 -1.62056112e-02  6.49066070e-02\n",
      "  -1.11415873e-02 -7.93123729e-02 -9.81476468e-02  2.65092214e-01\n",
      "   9.53135980e-01 -2.38994985e-02  6.13247431e-03]\n",
      " [-7.18832280e-04 -9.15867655e-02  4.28631866e-01 -3.38841054e-01\n",
      "  -4.64366208e-01 -6.89241790e-01  4.11570558e-02 -7.27374987e-03\n",
      "  -2.51315387e-02 -2.00966661e-03 -3.84465551e-04]\n",
      " [-5.84467646e-05 -1.05489073e-01  7.60466107e-01 -3.27123399e-01\n",
      "   2.05507873e-01  5.04044257e-01 -4.14815020e-02  9.83215158e-03\n",
      "   7.37082746e-02 -3.03480788e-03 -1.70902595e-04]\n",
      " [-4.12747476e-04 -1.48602896e-03 -6.93128776e-03  4.13432131e-03\n",
      "  -2.49458552e-03  5.76573957e-03  1.76626862e-01 -9.43177990e-01\n",
      "   2.80913620e-01  1.11348551e-02 -8.64894648e-03]\n",
      " [-1.81878311e-03  9.80249498e-01  7.21971030e-02 -1.32518260e-01\n",
      "  -1.13948493e-01  5.70159846e-02  9.47985067e-03  6.45262673e-04\n",
      "   2.94578815e-03 -2.36654751e-04 -6.37307290e-05]\n",
      " [ 8.57545760e-06 -3.17589826e-04  1.49867896e-03 -2.57435147e-03\n",
      "   9.26191533e-05 -1.05989214e-03  7.86843454e-03  2.11894371e-02\n",
      "   2.08968395e-02  9.75265982e-01 -2.18857434e-01]\n",
      " [-2.65414500e-06  2.60239937e-04 -6.57103967e-04  1.21187727e-03\n",
      "   2.30257301e-04 -6.14340167e-04 -1.03231630e-02  3.97992967e-03\n",
      "  -1.52685886e-03 -2.18916841e-01 -9.75678369e-01]\n",
      " [ 9.99983426e-01  2.03252714e-03  2.83889045e-03  4.10828148e-03\n",
      "  -1.59988536e-03 -4.67157195e-04  8.33972282e-04 -5.52088341e-05\n",
      "   7.76139600e-04 -2.49998510e-05 -3.72498542e-06]\n",
      " [-5.06831403e-03  9.06452527e-02  4.78787810e-01  8.59196803e-01\n",
      "   1.02608661e-02 -1.42001678e-01 -1.26215966e-02 -2.05779719e-02\n",
      "  -5.86305467e-02  3.27182194e-03  2.68008619e-04]\n",
      " [-1.31065389e-03 -1.05566655e-01 -5.35682617e-02  1.32919186e-01\n",
      "  -8.53721238e-01  4.88427356e-01 -2.35852364e-02  7.19926307e-03\n",
      "   1.75252442e-02  6.18926046e-04 -2.23381730e-04]\n",
      " [ 9.25261335e-04  1.01118356e-02 -1.80242815e-02 -2.17794088e-02\n",
      "  -8.24998669e-03 -5.08246586e-02 -9.77128836e-01 -1.97613982e-01\n",
      "  -4.85991164e-02  1.45642451e-02  6.35846721e-03]]\n"
     ]
    }
   ],
   "source": [
    "# Calcular a decomposição espectral \n",
    "w, Q = np.linalg.eigh(cov)\n",
    "print(w.shape)\n",
    "print(Q.shape)\n",
    "print(w)\n",
    "print(Q)"
   ]
  },
  {
   "cell_type": "code",
   "execution_count": 12,
   "id": "5da2d2e9",
   "metadata": {},
   "outputs": [
    {
     "name": "stdout",
     "output_type": "stream",
     "text": [
      "[[ 6.13247431e-03 -2.38994985e-02  9.53135980e-01  2.65092214e-01\n",
      "  -9.81476468e-02 -7.93123729e-02 -1.11415873e-02  6.49066070e-02\n",
      "  -1.62056112e-02  1.11894679e-02 -9.42137146e-04]\n",
      " [-3.84465551e-04 -2.00966661e-03 -2.51315387e-02 -7.27374987e-03\n",
      "   4.11570558e-02 -6.89241790e-01 -4.64366208e-01 -3.38841054e-01\n",
      "   4.28631866e-01 -9.15867655e-02 -7.18832280e-04]\n",
      " [-1.70902595e-04 -3.03480788e-03  7.37082746e-02  9.83215158e-03\n",
      "  -4.14815020e-02  5.04044257e-01  2.05507873e-01 -3.27123399e-01\n",
      "   7.60466107e-01 -1.05489073e-01 -5.84467646e-05]\n",
      " [-8.64894648e-03  1.11348551e-02  2.80913620e-01 -9.43177990e-01\n",
      "   1.76626862e-01  5.76573957e-03 -2.49458552e-03  4.13432131e-03\n",
      "  -6.93128776e-03 -1.48602896e-03 -4.12747476e-04]\n",
      " [-6.37307290e-05 -2.36654751e-04  2.94578815e-03  6.45262673e-04\n",
      "   9.47985067e-03  5.70159846e-02 -1.13948493e-01 -1.32518260e-01\n",
      "   7.21971030e-02  9.80249498e-01 -1.81878311e-03]\n",
      " [-2.18857434e-01  9.75265982e-01  2.08968395e-02  2.11894371e-02\n",
      "   7.86843454e-03 -1.05989214e-03  9.26191533e-05 -2.57435147e-03\n",
      "   1.49867896e-03 -3.17589826e-04  8.57545760e-06]\n",
      " [-9.75678369e-01 -2.18916841e-01 -1.52685886e-03  3.97992967e-03\n",
      "  -1.03231630e-02 -6.14340167e-04  2.30257301e-04  1.21187727e-03\n",
      "  -6.57103967e-04  2.60239937e-04 -2.65414500e-06]\n",
      " [-3.72498542e-06 -2.49998510e-05  7.76139600e-04 -5.52088341e-05\n",
      "   8.33972282e-04 -4.67157195e-04 -1.59988536e-03  4.10828148e-03\n",
      "   2.83889045e-03  2.03252714e-03  9.99983426e-01]\n",
      " [ 2.68008619e-04  3.27182194e-03 -5.86305467e-02 -2.05779719e-02\n",
      "  -1.26215966e-02 -1.42001678e-01  1.02608661e-02  8.59196803e-01\n",
      "   4.78787810e-01  9.06452527e-02 -5.06831403e-03]\n",
      " [-2.23381730e-04  6.18926046e-04  1.75252442e-02  7.19926307e-03\n",
      "  -2.35852364e-02  4.88427356e-01 -8.53721238e-01  1.32919186e-01\n",
      "  -5.35682617e-02 -1.05566655e-01 -1.31065389e-03]\n",
      " [ 6.35846721e-03  1.45642451e-02 -4.85991164e-02 -1.97613982e-01\n",
      "  -9.77128836e-01 -5.08246586e-02 -8.24998669e-03 -2.17794088e-02\n",
      "  -1.80242815e-02  1.01118356e-02  9.25261335e-04]]\n",
      "[7.09072593e-01 3.62322769e-02 1.93952613e-03 1.13784573e-03\n",
      " 6.54371707e-04 2.58891366e-05 1.45044764e-05 7.09597783e-06\n",
      " 6.30267925e-06 9.09942182e-07 3.51146133e-10]\n"
     ]
    }
   ],
   "source": [
    "# Ordenando os autovalores de forma decrescentes\n",
    "index = np.argsort(w)[::-1] #Obter índices para ordenação decrescente dos autovalores\n",
    "w_ord = w[index]\n",
    "\n",
    "# Ordenando os autovetores de forma decrescentes\n",
    "Q_ord = Q[:,index]\n",
    "\n",
    "print(Q_ord)\n",
    "print(w_ord)"
   ]
  },
  {
   "cell_type": "markdown",
   "id": "e7af253d",
   "metadata": {},
   "source": [
    "Nota: O objetivo do PCA é construir um novo espaço de recursos. Os autovetores são os eixos desse novo espaço de recursos e os autovalores denotam a magnitude da variância ao longo desse eixo. Em outras palavras, um autovalor mais alto significa mais variância no eixo principal correspondente. Portanto, o conjunto de eixos com as variâncias mais altas são os recursos mais importantes neste novo espaço de recursos, pois eles contêm a maioria das informações. Obtendo as primeiras K colunas da matriz de autovetores, que têm os K maiores autovalores, formamos o que é chamado de matriz de projeção. O produto escalar de nossa matriz de dados e matriz de projeção, o que parece muito legal, mas na verdade é muito simples, é o espaço reduzido de recursos, o resultado do PCA."
   ]
  },
  {
   "cell_type": "code",
   "execution_count": 13,
   "id": "9f34f769",
   "metadata": {},
   "outputs": [
    {
     "name": "stdout",
     "output_type": "stream",
     "text": [
      "(1599, 1)\n",
      "[[ 13.22490501]\n",
      " [-22.03772361]\n",
      " [ -7.16267333]\n",
      " ...\n",
      " [  3.43135351]\n",
      " [ -1.13287834]\n",
      " [  3.8743766 ]]\n"
     ]
    }
   ],
   "source": [
    "# Ralizando a redução de dimensionalidade PCA\n",
    "pca_2 = np.dot(X_data_cet, Q_ord[:, :k])\n",
    "print(pca_2.shape)\n",
    "print(pca_2)"
   ]
  },
  {
   "cell_type": "code",
   "execution_count": 14,
   "id": "ce9e55ce",
   "metadata": {},
   "outputs": [
    {
     "name": "stdout",
     "output_type": "stream",
     "text": [
      "[94.65769763954631, 4.836830457481654, 0.258917182866071, 0.15189679843916887, 0.08735539896340852, 0.0034560721817209297, 0.001936276139805361, 0.0009472780792098818, 0.0008413766282165817, 0.00012147279814401443, 4.6876278779185474e-08]\n",
      "\n",
      "[ 94.65769764  99.4945281   99.75344528  99.90534208  99.99269748\n",
      "  99.99615355  99.99808983  99.9990371   99.99987848  99.99999995\n",
      " 100.        ]\n"
     ]
    }
   ],
   "source": [
    "# Calculando a Variância explicada de acordo com a quantidade de autovetores\n",
    "variance_explained = []\n",
    "for i in w_ord:\n",
    "     variance_explained.append((i/sum(w_ord))*100)\n",
    "\n",
    "print(variance_explained)\n",
    "print(\"\")\n",
    "## Identificação de componentes que explicam pelo menos 95%\n",
    "cumulative_variance_explained = np.cumsum(variance_explained)\n",
    "print(cumulative_variance_explained)"
   ]
  },
  {
   "cell_type": "code",
   "execution_count": 15,
   "id": "06f03c31",
   "metadata": {},
   "outputs": [
    {
     "data": {
      "image/png": "[encoded data removed]",
      "text/plain": [
       "<Figure size 720x360 with 1 Axes>"
      ]
     },
     "metadata": {},
     "output_type": "display_data"
    }
   ],
   "source": [
    "plt.figure(figsize=(10, 5))\n",
    "plt.plot(cumulative_variance_explained)\n",
    "plt.title('Variabilidade Acumulada por Valores Singulares')\n",
    "plt.xlabel(\"Número de Valores Singulares\")\n",
    "plt.ylabel(\"Variabilidade Acumulda\")\n",
    "plt.savefig(\"vari_x_singulares.png\", bbox_inches='tight')\n",
    "plt.show()"
   ]
  },
  {
   "cell_type": "markdown",
   "id": "03141e58",
   "metadata": {},
   "source": [
    "## 3) PCA com Numpy e SVD"
   ]
  },
  {
   "cell_type": "code",
   "execution_count": 16,
   "id": "e2e078ba",
   "metadata": {},
   "outputs": [
    {
     "name": "stdout",
     "output_type": "stream",
     "text": [
      "U:  (1599, 11) \n",
      "S:  (11,) \n",
      "Vt:  (11, 11)\n"
     ]
    }
   ],
   "source": [
    "# Calculate SVD com os dados \n",
    "U, S, Vt = np.linalg.svd(X_data_cet, full_matrices=False)\n",
    "print('U: ', U.shape, \n",
    "      '\\nS: ', S.shape, \n",
    "      '\\nVt: ', Vt.shape)"
   ]
  },
  {
   "cell_type": "code",
   "execution_count": 17,
   "id": "408072fb",
   "metadata": {},
   "outputs": [
    {
     "name": "stdout",
     "output_type": "stream",
     "text": [
      "[0.94657698 0.99494528 0.99753445 0.99905342 0.99992697 0.99996154\n",
      " 0.9999809  0.99999037 0.99999878 1.         1.        ]\n"
     ]
    }
   ],
   "source": [
    "# Calculando a Variabilidade acumulada\n",
    "varia_acum = np.cumsum(S**2) / np.sum(S**2)\n",
    "print(varia_acum)"
   ]
  },
  {
   "cell_type": "code",
   "execution_count": 18,
   "id": "0eaf36c8",
   "metadata": {},
   "outputs": [
    {
     "data": {
      "image/png": "[encoded data removed]",
      "text/plain": [
       "<Figure size 720x360 with 1 Axes>"
      ]
     },
     "metadata": {},
     "output_type": "display_data"
    }
   ],
   "source": [
    "# Gerando um gráco de número de valores singulares versus variabilidade acumulada.\n",
    "y_plot = varia_acum\n",
    "#x_plot = np.array(range(len(S)))\n",
    "\n",
    "plt.figure(figsize=(10, 5))\n",
    "plt.plot(y_plot)\n",
    "plt.title('Variabilidade Acumulada por Valores Singulares')\n",
    "plt.xlabel(\"Número de Valores Singulares\")\n",
    "plt.ylabel(\"Variabilidade Acumulda\")\n",
    "plt.savefig(\"vari_x_singulares.png\", bbox_inches='tight')\n",
    "plt.show()"
   ]
  },
  {
   "cell_type": "code",
   "execution_count": 19,
   "id": "787020f0",
   "metadata": {},
   "outputs": [
    {
     "name": "stdout",
     "output_type": "stream",
     "text": [
      "Variabilidade acumulada: 99.49%, até o 1-ésimo autovalor.\n"
     ]
    }
   ],
   "source": [
    "n_vari_acum = 0.95 # Variabilidade acumulada esperada\n",
    "r_melhores = [ n for n, i in enumerate(varia_acum) if i > n_vari_acum ][0]\n",
    "print( 'Variabilidade acumulada: {:.2f}%, até o {:d}-ésimo autovalor.'.format(100 * varia_acum[r_melhores], r_melhores))"
   ]
  },
  {
   "cell_type": "code",
   "execution_count": 20,
   "id": "19fbc83d",
   "metadata": {},
   "outputs": [
    {
     "data": {
      "text/plain": [
       "array([0.94657698])"
      ]
     },
     "execution_count": 20,
     "metadata": {},
     "output_type": "execute_result"
    }
   ],
   "source": [
    "varia_acum[:r_melhores]"
   ]
  },
  {
   "cell_type": "code",
   "execution_count": 21,
   "id": "52545943",
   "metadata": {},
   "outputs": [
    {
     "name": "stdout",
     "output_type": "stream",
     "text": [
      "Dimensões: \n",
      "X_train: (1599, 11) --> X_train_new:  (1599, 1)\n",
      "V:       (11, 11) --> V_hat: (11, 1)\n"
     ]
    }
   ],
   "source": [
    "# Ralizando a redução de dimensionalidade PCA\n",
    "V_new  = Vt[:r_melhores,:].T \n",
    "pca_3 = np.dot( X_data_cet, V_new)\n",
    "#X_test_new  = np.dot( X_test_cent,  V_new )\n",
    "\n",
    "print( 'Dimensões: \\nX_train: {:} --> X_train_new:  {:}'\\\n",
    "      .format(X_data_cet.shape, pca_3.shape) )\n",
    "\n",
    "print( 'V:       {:} --> V_hat: {:}'\\\n",
    "      .format(Vt.shape, V_new.shape) )"
   ]
  },
  {
   "cell_type": "code",
   "execution_count": 22,
   "id": "2094e2c5",
   "metadata": {},
   "outputs": [
    {
     "data": {
      "text/plain": [
       "array([[ 13.22490501],\n",
       "       [-22.03772361],\n",
       "       [ -7.16267333],\n",
       "       ...,\n",
       "       [  3.43135351],\n",
       "       [ -1.13287834],\n",
       "       [  3.8743766 ]])"
      ]
     },
     "execution_count": 22,
     "metadata": {},
     "output_type": "execute_result"
    }
   ],
   "source": [
    "pca_3"
   ]
  }
 ],
 "metadata": {
  "kernelspec": {
   "display_name": "Python 3 (ipykernel)",
   "language": "python",
   "name": "python3"
  },
  "language_info": {
   "codemirror_mode": {
    "name": "ipython",
    "version": 3
   },
   "file_extension": ".py",
   "mimetype": "text/x-python",
   "name": "python",
   "nbconvert_exporter": "python",
   "pygments_lexer": "ipython3",
   "version": "3.8.12"
  }
 },
 "nbformat": 4,
 "nbformat_minor": 5
}
